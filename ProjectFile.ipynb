{
 "cells": [
  {
   "cell_type": "code",
   "execution_count": 31,
   "id": "68ede73c-e895-4b42-9289-5e0b13b6f73d",
   "metadata": {},
   "outputs": [
    {
     "name": "stdout",
     "output_type": "stream",
     "text": [
      "Checking email: 2 testpassword123\n",
      "Aggregated data to: C:\\Users\\Ahern\\Downloads\\Python\\_FINALPROJECT\\2.csv\n"
     ]
    },
    {
     "data": {
      "text/plain": [
       "('BYE', [b'Microsoft Exchange Server IMAP4 server signing off.'])"
      ]
     },
     "execution_count": 31,
     "metadata": {},
     "output_type": "execute_result"
    }
   ],
   "source": [
    "import imaplib\n",
    "import email\n",
    "from email import policy\n",
    "import os\n",
    "import pandas as pd\n",
    "\n",
    "# Credentials and server settings\n",
    "username = ''\n",
    "password = ''\n",
    "imap_host = 'outlook.office365.com'\n",
    "imap_port = 993\n",
    "\n",
    "# Current working directory\n",
    "save_directory = os.getcwd()\n",
    "\n",
    "# File mapping based on subject line prefix\n",
    "file_mapping = {\n",
    "    '1': '1.csv',\n",
    "    '2': '2.csv',\n",
    "    '3': '3.csv'\n",
    "}\n",
    "\n",
    "# Read the security key from key.txt\n",
    "with open(os.path.join(save_directory, 'key.txt'), 'r') as key_file:\n",
    "    key_phrase = key_file.read().strip()\n",
    "\n",
    "# Ensure all target files exist or create empty ones with headers\n",
    "# Assuming you know the headers, e.g., ['Column1', 'Column2']\n",
    "headers = ['Column1', 'Column2']\n",
    "for filename in file_mapping.values():\n",
    "    filepath = os.path.join(save_directory, filename)\n",
    "    if not os.path.exists(filepath):\n",
    "        pd.DataFrame(columns=headers).to_csv(filepath, index=False)\n",
    "\n",
    "# Connect and login to IMAP server\n",
    "mail = imaplib.IMAP4_SSL(imap_host, imap_port)\n",
    "mail.login(username, password)\n",
    "mail.select('inbox')\n",
    "\n",
    "# Search for unread emails with attachments\n",
    "typ, messages = mail.search(None, '(UNSEEN)')\n",
    "if typ == 'OK':\n",
    "    for num in messages[0].split():\n",
    "        typ, data = mail.fetch(num, '(RFC822)')\n",
    "        if typ != 'OK':\n",
    "            print(\"Failed to fetch email:\", num)\n",
    "            continue\n",
    "        # Parse the email content\n",
    "        msg = email.message_from_bytes(data[0][1], policy=policy.default)\n",
    "        subject = msg['Subject']\n",
    "        print(\"Checking email:\", subject)\n",
    "\n",
    "        # Determine the target file based on the subject line and key phrase\n",
    "        target_file = None\n",
    "        for prefix, filename in file_mapping.items():\n",
    "            if subject.startswith(prefix) and key_phrase in subject:\n",
    "                target_file = os.path.join(save_directory, filename)\n",
    "                break\n",
    "\n",
    "        if target_file is None:\n",
    "            print(\"No matching file or key phrase incorrect for subject:\", subject)\n",
    "            continue\n",
    "\n",
    "        # Process each part of the email\n",
    "        for part in msg.walk():\n",
    "            if part.get_content_maintype() == 'multipart':\n",
    "                continue\n",
    "            if part.get('Content-Disposition') is None:\n",
    "                continue\n",
    "\n",
    "            # Check if the part has a filename and is a CSV file\n",
    "            filename = part.get_filename()\n",
    "            if filename and filename.lower().endswith('.csv'):\n",
    "                filepath = os.path.join(save_directory, filename)\n",
    "                with open(filepath, 'wb') as f:\n",
    "                    f.write(part.get_payload(decode=True))\n",
    "                # Aggregate CSV data\n",
    "                try:\n",
    "                    new_data = pd.read_csv(filepath)\n",
    "                    existing_data = pd.read_csv(target_file)\n",
    "                    combined_data = pd.concat([existing_data, new_data])\n",
    "                    combined_data.to_csv(target_file, index=False)\n",
    "                    print(\"Aggregated data to:\", target_file)\n",
    "                finally:\n",
    "                    os.remove(filepath)  # Remove the temporary file\n",
    "\n",
    "mail.close()\n",
    "mail.logout()\n"
   ]
  }
 ],
 "metadata": {
  "kernelspec": {
   "display_name": "Python 3 (ipykernel)",
   "language": "python",
   "name": "python3"
  },
  "language_info": {
   "codemirror_mode": {
    "name": "ipython",
    "version": 3
   },
   "file_extension": ".py",
   "mimetype": "text/x-python",
   "name": "python",
   "nbconvert_exporter": "python",
   "pygments_lexer": "ipython3",
   "version": "3.9.13"
  }
 },
 "nbformat": 4,
 "nbformat_minor": 5
}
